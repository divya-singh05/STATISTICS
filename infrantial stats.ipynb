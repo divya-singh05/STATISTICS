{
 "cells": [
  {
   "cell_type": "code",
   "execution_count": 2,
   "metadata": {},
   "outputs": [],
   "source": [
    "import pandas as pd \n",
    "import numpy as np"
   ]
  },
  {
   "cell_type": "code",
   "execution_count": 3,
   "metadata": {},
   "outputs": [],
   "source": [
    "data = pd.read_csv(\"E:\\\\paul\\\\AAFT\\\\stct\\\\diabetes.csv\")"
   ]
  },
  {
   "cell_type": "code",
   "execution_count": 4,
   "metadata": {},
   "outputs": [
    {
     "data": {
      "text/html": [
       "<div>\n",
       "<style scoped>\n",
       "    .dataframe tbody tr th:only-of-type {\n",
       "        vertical-align: middle;\n",
       "    }\n",
       "\n",
       "    .dataframe tbody tr th {\n",
       "        vertical-align: top;\n",
       "    }\n",
       "\n",
       "    .dataframe thead th {\n",
       "        text-align: right;\n",
       "    }\n",
       "</style>\n",
       "<table border=\"1\" class=\"dataframe\">\n",
       "  <thead>\n",
       "    <tr style=\"text-align: right;\">\n",
       "      <th></th>\n",
       "      <th>Pregnancies</th>\n",
       "      <th>Glucose</th>\n",
       "      <th>BloodPressure</th>\n",
       "      <th>SkinThickness</th>\n",
       "      <th>Insulin</th>\n",
       "      <th>BMI</th>\n",
       "      <th>DiabetesPedigreeFunction</th>\n",
       "      <th>Age</th>\n",
       "      <th>Outcome</th>\n",
       "    </tr>\n",
       "  </thead>\n",
       "  <tbody>\n",
       "    <tr>\n",
       "      <th>0</th>\n",
       "      <td>6</td>\n",
       "      <td>148</td>\n",
       "      <td>72</td>\n",
       "      <td>35</td>\n",
       "      <td>0</td>\n",
       "      <td>33.6</td>\n",
       "      <td>0.627</td>\n",
       "      <td>50</td>\n",
       "      <td>1</td>\n",
       "    </tr>\n",
       "    <tr>\n",
       "      <th>1</th>\n",
       "      <td>1</td>\n",
       "      <td>85</td>\n",
       "      <td>66</td>\n",
       "      <td>29</td>\n",
       "      <td>0</td>\n",
       "      <td>26.6</td>\n",
       "      <td>0.351</td>\n",
       "      <td>31</td>\n",
       "      <td>0</td>\n",
       "    </tr>\n",
       "    <tr>\n",
       "      <th>2</th>\n",
       "      <td>8</td>\n",
       "      <td>183</td>\n",
       "      <td>64</td>\n",
       "      <td>0</td>\n",
       "      <td>0</td>\n",
       "      <td>23.3</td>\n",
       "      <td>0.672</td>\n",
       "      <td>32</td>\n",
       "      <td>1</td>\n",
       "    </tr>\n",
       "    <tr>\n",
       "      <th>3</th>\n",
       "      <td>1</td>\n",
       "      <td>89</td>\n",
       "      <td>66</td>\n",
       "      <td>23</td>\n",
       "      <td>94</td>\n",
       "      <td>28.1</td>\n",
       "      <td>0.167</td>\n",
       "      <td>21</td>\n",
       "      <td>0</td>\n",
       "    </tr>\n",
       "    <tr>\n",
       "      <th>4</th>\n",
       "      <td>0</td>\n",
       "      <td>137</td>\n",
       "      <td>40</td>\n",
       "      <td>35</td>\n",
       "      <td>168</td>\n",
       "      <td>43.1</td>\n",
       "      <td>2.288</td>\n",
       "      <td>33</td>\n",
       "      <td>1</td>\n",
       "    </tr>\n",
       "  </tbody>\n",
       "</table>\n",
       "</div>"
      ],
      "text/plain": [
       "   Pregnancies  Glucose  BloodPressure  SkinThickness  Insulin   BMI  \\\n",
       "0            6      148             72             35        0  33.6   \n",
       "1            1       85             66             29        0  26.6   \n",
       "2            8      183             64              0        0  23.3   \n",
       "3            1       89             66             23       94  28.1   \n",
       "4            0      137             40             35      168  43.1   \n",
       "\n",
       "   DiabetesPedigreeFunction  Age  Outcome  \n",
       "0                     0.627   50        1  \n",
       "1                     0.351   31        0  \n",
       "2                     0.672   32        1  \n",
       "3                     0.167   21        0  \n",
       "4                     2.288   33        1  "
      ]
     },
     "execution_count": 4,
     "metadata": {},
     "output_type": "execute_result"
    }
   ],
   "source": [
    "data.head()"
   ]
  },
  {
   "cell_type": "code",
   "execution_count": 6,
   "metadata": {},
   "outputs": [],
   "source": [
    "from scipy.stats import shapiro as sp"
   ]
  },
  {
   "cell_type": "code",
   "execution_count": 8,
   "metadata": {},
   "outputs": [
    {
     "name": "stdout",
     "output_type": "stream",
     "text": [
      "The data Pregnancies is not normally distributed\n"
     ]
    }
   ],
   "source": [
    "stats , p = sp(data[\"Pregnancies\"])\n",
    "if p > 0.05 :\n",
    "    print(\"The data Pregnancies is normally distributed\")\n",
    "else:\n",
    "    print(\"The data Pregnancies is not normally distributed\")"
   ]
  },
  {
   "cell_type": "code",
   "execution_count": 10,
   "metadata": {},
   "outputs": [
    {
     "name": "stdout",
     "output_type": "stream",
     "text": [
      "The data Glucose is not normally distributed\n"
     ]
    }
   ],
   "source": [
    "stats , p = sp(data[\"Glucose\"])\n",
    "if p > 0.05 :\n",
    "    print(\"The data Glucose is normally distributed\")\n",
    "else:\n",
    "    print(\"The data Glucose is not normally distributed\")"
   ]
  },
  {
   "cell_type": "code",
   "execution_count": 11,
   "metadata": {},
   "outputs": [
    {
     "name": "stdout",
     "output_type": "stream",
     "text": [
      "The data BloodPressure is not normally distributed\n"
     ]
    }
   ],
   "source": [
    "stats , p = sp(data[\"BloodPressure\"])\n",
    "if p > 0.05 :\n",
    "    print(\"The data BloodPressure is normally distributed\")\n",
    "else:\n",
    "    print(\"The data BloodPressure is not normally distributed\")"
   ]
  },
  {
   "cell_type": "code",
   "execution_count": 12,
   "metadata": {},
   "outputs": [
    {
     "name": "stdout",
     "output_type": "stream",
     "text": [
      "The data SkinThickness is not normally distributed\n"
     ]
    }
   ],
   "source": [
    "stats , p = sp(data[\"SkinThickness\"])\n",
    "if p > 0.05 :\n",
    "    print(\"The data SkinThickness is normally distributed\")\n",
    "else:\n",
    "    print(\"The data SkinThickness is not normally distributed\")"
   ]
  },
  {
   "cell_type": "code",
   "execution_count": 13,
   "metadata": {},
   "outputs": [
    {
     "name": "stdout",
     "output_type": "stream",
     "text": [
      "The data Insulin is not normally distributed\n"
     ]
    }
   ],
   "source": [
    "stats , p = sp(data[\"Insulin\"])\n",
    "if p > 0.05 :\n",
    "    print(\"The data Insulin is normally distributed\")\n",
    "else:\n",
    "    print(\"The data Insulin is not normally distributed\")"
   ]
  },
  {
   "cell_type": "code",
   "execution_count": 14,
   "metadata": {},
   "outputs": [
    {
     "name": "stdout",
     "output_type": "stream",
     "text": [
      "The data BMI is not normally distributed\n"
     ]
    }
   ],
   "source": [
    "stats , p = sp(data[\"BMI\"])\n",
    "if p > 0.05 :\n",
    "    print(\"The data BMI is normally distributed\")\n",
    "else:\n",
    "    print(\"The data BMI is not normally distributed\")"
   ]
  },
  {
   "cell_type": "code",
   "execution_count": 15,
   "metadata": {},
   "outputs": [
    {
     "name": "stdout",
     "output_type": "stream",
     "text": [
      "The data DiabetesPedigreeFunction is not normally distributed\n"
     ]
    }
   ],
   "source": [
    "stats , p = sp(data[\"DiabetesPedigreeFunction\"])\n",
    "if p > 0.05 :\n",
    "    print(\"The data DiabetesPedigreeFunction is normally distributed\")\n",
    "else:\n",
    "    print(\"The data DiabetesPedigreeFunction is not normally distributed\")"
   ]
  },
  {
   "cell_type": "code",
   "execution_count": 16,
   "metadata": {},
   "outputs": [
    {
     "name": "stdout",
     "output_type": "stream",
     "text": [
      "The data Age is not normally distributed\n"
     ]
    }
   ],
   "source": [
    "stats , p = sp(data[\"Age\"])\n",
    "if p > 0.05 :\n",
    "    print(\"The data Age is normally distributed\")\n",
    "else:\n",
    "    print(\"The data Age is not normally distributed\")"
   ]
  },
  {
   "cell_type": "code",
   "execution_count": 17,
   "metadata": {},
   "outputs": [
    {
     "name": "stdout",
     "output_type": "stream",
     "text": [
      "The data Outcome is not normally distributed\n"
     ]
    }
   ],
   "source": [
    "stats , p = sp(data[\"Outcome\"])\n",
    "if p > 0.05 :\n",
    "    print(\"The data Outcome is normally distributed\")\n",
    "else:\n",
    "    print(\"The data Outcome is not normally distributed\")"
   ]
  },
  {
   "cell_type": "code",
   "execution_count": 22,
   "metadata": {},
   "outputs": [],
   "source": [
    "from scipy.stats import pearsonr as ps"
   ]
  },
  {
   "cell_type": "code",
   "execution_count": 20,
   "metadata": {},
   "outputs": [
    {
     "data": {
      "text/html": [
       "<div>\n",
       "<style scoped>\n",
       "    .dataframe tbody tr th:only-of-type {\n",
       "        vertical-align: middle;\n",
       "    }\n",
       "\n",
       "    .dataframe tbody tr th {\n",
       "        vertical-align: top;\n",
       "    }\n",
       "\n",
       "    .dataframe thead th {\n",
       "        text-align: right;\n",
       "    }\n",
       "</style>\n",
       "<table border=\"1\" class=\"dataframe\">\n",
       "  <thead>\n",
       "    <tr style=\"text-align: right;\">\n",
       "      <th></th>\n",
       "      <th>Pregnancies</th>\n",
       "      <th>Glucose</th>\n",
       "      <th>BloodPressure</th>\n",
       "      <th>SkinThickness</th>\n",
       "      <th>Insulin</th>\n",
       "      <th>BMI</th>\n",
       "      <th>DiabetesPedigreeFunction</th>\n",
       "      <th>Age</th>\n",
       "      <th>Outcome</th>\n",
       "    </tr>\n",
       "  </thead>\n",
       "  <tbody>\n",
       "    <tr>\n",
       "      <th>0</th>\n",
       "      <td>6</td>\n",
       "      <td>148</td>\n",
       "      <td>72</td>\n",
       "      <td>35</td>\n",
       "      <td>0</td>\n",
       "      <td>33.6</td>\n",
       "      <td>0.627</td>\n",
       "      <td>50</td>\n",
       "      <td>1</td>\n",
       "    </tr>\n",
       "    <tr>\n",
       "      <th>1</th>\n",
       "      <td>1</td>\n",
       "      <td>85</td>\n",
       "      <td>66</td>\n",
       "      <td>29</td>\n",
       "      <td>0</td>\n",
       "      <td>26.6</td>\n",
       "      <td>0.351</td>\n",
       "      <td>31</td>\n",
       "      <td>0</td>\n",
       "    </tr>\n",
       "    <tr>\n",
       "      <th>2</th>\n",
       "      <td>8</td>\n",
       "      <td>183</td>\n",
       "      <td>64</td>\n",
       "      <td>0</td>\n",
       "      <td>0</td>\n",
       "      <td>23.3</td>\n",
       "      <td>0.672</td>\n",
       "      <td>32</td>\n",
       "      <td>1</td>\n",
       "    </tr>\n",
       "    <tr>\n",
       "      <th>3</th>\n",
       "      <td>1</td>\n",
       "      <td>89</td>\n",
       "      <td>66</td>\n",
       "      <td>23</td>\n",
       "      <td>94</td>\n",
       "      <td>28.1</td>\n",
       "      <td>0.167</td>\n",
       "      <td>21</td>\n",
       "      <td>0</td>\n",
       "    </tr>\n",
       "    <tr>\n",
       "      <th>4</th>\n",
       "      <td>0</td>\n",
       "      <td>137</td>\n",
       "      <td>40</td>\n",
       "      <td>35</td>\n",
       "      <td>168</td>\n",
       "      <td>43.1</td>\n",
       "      <td>2.288</td>\n",
       "      <td>33</td>\n",
       "      <td>1</td>\n",
       "    </tr>\n",
       "  </tbody>\n",
       "</table>\n",
       "</div>"
      ],
      "text/plain": [
       "   Pregnancies  Glucose  BloodPressure  SkinThickness  Insulin   BMI  \\\n",
       "0            6      148             72             35        0  33.6   \n",
       "1            1       85             66             29        0  26.6   \n",
       "2            8      183             64              0        0  23.3   \n",
       "3            1       89             66             23       94  28.1   \n",
       "4            0      137             40             35      168  43.1   \n",
       "\n",
       "   DiabetesPedigreeFunction  Age  Outcome  \n",
       "0                     0.627   50        1  \n",
       "1                     0.351   31        0  \n",
       "2                     0.672   32        1  \n",
       "3                     0.167   21        0  \n",
       "4                     2.288   33        1  "
      ]
     },
     "execution_count": 20,
     "metadata": {},
     "output_type": "execute_result"
    }
   ],
   "source": [
    "data.head()"
   ]
  },
  {
   "cell_type": "code",
   "execution_count": 28,
   "metadata": {},
   "outputs": [
    {
     "name": "stdout",
     "output_type": "stream",
     "text": [
      "r= -0.03352267296261311 \n",
      "p= 0.35353460198769926\n",
      "The data are not corrlated\n"
     ]
    }
   ],
   "source": [
    "r, p = ps(data['DiabetesPedigreeFunction'] , data['Pregnancies'])\n",
    "\n",
    "print(\"r=\" , r , \"\\np=\" , p)\n",
    "\n",
    "\n",
    "if p > 0.05 :\n",
    "    print(\"The data are not corrlated\")\n",
    "\n",
    "else:\n",
    "    print(\"The data are correlated \")\n"
   ]
  },
  {
   "cell_type": "code",
   "execution_count": 30,
   "metadata": {},
   "outputs": [
    {
     "name": "stdout",
     "output_type": "stream",
     "text": [
      "r= 0.13733729982837073 \n",
      "p= 0.00013458781437157466\n",
      "The data are correlated \n"
     ]
    }
   ],
   "source": [
    "r, p = ps(data['DiabetesPedigreeFunction'] , data['Glucose'])\n",
    "\n",
    "print(\"r=\" , r , \"\\np=\" , p)\n",
    "\n",
    "\n",
    "if p > 0.05 :\n",
    "    print(\"The data are not corrlated\")\n",
    "\n",
    "else:\n",
    "    print(\"The data are correlated \")\n"
   ]
  },
  {
   "cell_type": "code",
   "execution_count": 31,
   "metadata": {},
   "outputs": [
    {
     "name": "stdout",
     "output_type": "stream",
     "text": [
      "r= 0.04126494793009858 \n",
      "p= 0.2533743720192343\n",
      "The data are not corrlated\n"
     ]
    }
   ],
   "source": [
    "r, p = ps(data['DiabetesPedigreeFunction'] , data['BloodPressure'])\n",
    "\n",
    "print(\"r=\" , r , \"\\np=\" , p)\n",
    "\n",
    "\n",
    "if p > 0.05 :\n",
    "    print(\"The data are not corrlated\")\n",
    "\n",
    "else:\n",
    "    print(\"The data are correlated \")\n"
   ]
  },
  {
   "cell_type": "code",
   "execution_count": 32,
   "metadata": {},
   "outputs": [
    {
     "name": "stdout",
     "output_type": "stream",
     "text": [
      "r= 0.18392757295416323 \n",
      "p= 2.8561794700267096e-07\n",
      "The data are correlated \n"
     ]
    }
   ],
   "source": [
    "r, p = ps(data['DiabetesPedigreeFunction'] , data['SkinThickness'])\n",
    "\n",
    "print(\"r=\" , r , \"\\np=\" , p)\n",
    "\n",
    "\n",
    "if p > 0.05 :\n",
    "    print(\"The data are not corrlated\")\n",
    "\n",
    "else:\n",
    "    print(\"The data are correlated \")\n"
   ]
  },
  {
   "cell_type": "code",
   "execution_count": 33,
   "metadata": {},
   "outputs": [
    {
     "name": "stdout",
     "output_type": "stream",
     "text": [
      "r= 0.1850709291680991 \n",
      "p= 2.402264073942396e-07\n",
      "The data are correlated \n"
     ]
    }
   ],
   "source": [
    "r, p = ps(data['DiabetesPedigreeFunction'] , data['Insulin'])\n",
    "\n",
    "print(\"r=\" , r , \"\\np=\" , p)\n",
    "\n",
    "\n",
    "if p > 0.05 :\n",
    "    print(\"The data are not corrlated\")\n",
    "\n",
    "else:\n",
    "    print(\"The data are correlated \")\n"
   ]
  },
  {
   "cell_type": "code",
   "execution_count": 34,
   "metadata": {},
   "outputs": [
    {
     "name": "stdout",
     "output_type": "stream",
     "text": [
      "r= 0.14064695254510517 \n",
      "p= 9.197970126957359e-05\n",
      "The data are correlated \n"
     ]
    }
   ],
   "source": [
    "r, p = ps(data['DiabetesPedigreeFunction'] , data['BMI'])\n",
    "\n",
    "print(\"r=\" , r , \"\\np=\" , p)\n",
    "\n",
    "\n",
    "if p > 0.05 :\n",
    "    print(\"The data are not corrlated\")\n",
    "\n",
    "else:\n",
    "    print(\"The data are correlated \")\n"
   ]
  },
  {
   "cell_type": "code",
   "execution_count": 35,
   "metadata": {},
   "outputs": [
    {
     "name": "stdout",
     "output_type": "stream",
     "text": [
      "r= 0.03356131243480553 \n",
      "p= 0.3529797336668882\n",
      "The data are not corrlated\n"
     ]
    }
   ],
   "source": [
    "r, p = ps(data['DiabetesPedigreeFunction'] , data['Age'])\n",
    "\n",
    "print(\"r=\" , r , \"\\np=\" , p)\n",
    "\n",
    "\n",
    "if p > 0.05 :\n",
    "    print(\"The data are not corrlated\")\n",
    "\n",
    "else:\n",
    "    print(\"The data are correlated \")\n"
   ]
  },
  {
   "cell_type": "code",
   "execution_count": 36,
   "metadata": {},
   "outputs": [
    {
     "name": "stdout",
     "output_type": "stream",
     "text": [
      "r= 0.1738440656529601 \n",
      "p= 1.2546070101487771e-06\n",
      "The data are correlated \n"
     ]
    }
   ],
   "source": [
    "r, p = ps(data['DiabetesPedigreeFunction'] , data['Outcome'])\n",
    "\n",
    "print(\"r=\" , r , \"\\np=\" , p)\n",
    "\n",
    "\n",
    "if p > 0.05 :\n",
    "    print(\"The data are not corrlated\")\n",
    "\n",
    "else:\n",
    "    print(\"The data are correlated \")\n"
   ]
  },
  {
   "cell_type": "markdown",
   "metadata": {},
   "source": [
    "data[c] to list\n",
    "\n",
    "list to for loop \n",
    "\n",
    "shipiro  in fro loop"
   ]
  },
  {
   "cell_type": "code",
   "execution_count": null,
   "metadata": {},
   "outputs": [],
   "source": []
  },
  {
   "cell_type": "code",
   "execution_count": null,
   "metadata": {},
   "outputs": [],
   "source": [
    "\n"
   ]
  }
 ],
 "metadata": {
  "kernelspec": {
   "display_name": "Python 3",
   "language": "python",
   "name": "python3"
  },
  "language_info": {
   "codemirror_mode": {
    "name": "ipython",
    "version": 3
   },
   "file_extension": ".py",
   "mimetype": "text/x-python",
   "name": "python",
   "nbconvert_exporter": "python",
   "pygments_lexer": "ipython3",
   "version": "3.12.4"
  }
 },
 "nbformat": 4,
 "nbformat_minor": 2
}
